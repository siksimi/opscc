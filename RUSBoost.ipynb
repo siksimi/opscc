{
 "cells": [
  {
   "cell_type": "code",
   "execution_count": 1,
   "id": "965d7c5d",
   "metadata": {},
   "outputs": [],
   "source": [
    "# RUSboost implementation\n",
    "# https://imbalanced-learn.org/stable/references/generated/imblearn.ensemble.RUSBoostClassifier.html\n",
    "# https://ieeexplore.ieee.org/document/4761297"
   ]
  },
  {
   "cell_type": "code",
   "execution_count": 2,
   "id": "b81c9a10",
   "metadata": {},
   "outputs": [],
   "source": [
    "import numpy as np\n",
    "import pandas as pd\n",
    "import os, warnings\n",
    "warnings.filterwarnings(action='ignore')\n",
    "from imblearn.ensemble import RUSBoostClassifier\n",
    "from sklearn.metrics import roc_auc_score\n",
    "from sklearn.tree import DecisionTreeClassifier\n",
    "from sklearn.ensemble import RandomForestClassifier"
   ]
  },
  {
   "cell_type": "code",
   "execution_count": 3,
   "id": "91322bfd",
   "metadata": {},
   "outputs": [],
   "source": [
    "repeat = 100"
   ]
  },
  {
   "cell_type": "code",
   "execution_count": 4,
   "id": "59229fdb",
   "metadata": {},
   "outputs": [
    {
     "name": "stdout",
     "output_type": "stream",
     "text": [
      "[ 0 / 4 ] estimator: decisiontree with dataset :  X_T2\n",
      "training AUC: 0.8180102040816327\n",
      "validation AUC: 0.49193650793650784\n",
      "[ 0 / 4 ] estimator: randomforest with dataset :  X_T2\n",
      "training AUC: 0.8469387755102044\n",
      "validation AUC: 0.5793650793650797\n",
      "[ 1 / 4 ] estimator: decisiontree with dataset :  X_T1\n",
      "training AUC: 0.8339795918367345\n",
      "validation AUC: 0.44631746031746017\n",
      "[ 1 / 4 ] estimator: randomforest with dataset :  X_T1\n",
      "training AUC: 0.8619897959183679\n",
      "validation AUC: 0.4201746031746029\n",
      "[ 2 / 4 ] estimator: decisiontree with dataset :  X_T1T2\n",
      "training AUC: 0.8339795918367345\n",
      "validation AUC: 0.44631746031746017\n",
      "[ 2 / 4 ] estimator: randomforest with dataset :  X_T1T2\n",
      "training AUC: 0.8619897959183679\n",
      "validation AUC: 0.4201746031746029\n",
      "[ 3 / 4 ] estimator: decisiontree with dataset :  X_adc\n",
      "training AUC: 0.8399489795918363\n",
      "validation AUC: 0.5532539682539682\n",
      "[ 3 / 4 ] estimator: randomforest with dataset :  X_adc\n",
      "training AUC: 0.8622448979591845\n",
      "validation AUC: 0.5514126984126986\n"
     ]
    }
   ],
   "source": [
    "df = pd.read_csv('final_data.csv')\n",
    "\n",
    "training_df = df.loc[df['Outside'] == 0]\n",
    "test_df = df.loc[df['Outside'] == 1]\n",
    "\n",
    "X_train_full = training_df.iloc[:, 5:]\n",
    "y_train = training_df.iloc[:, 1 ]\n",
    "X_test_full = test_df.iloc[:, 5:]\n",
    "y_test = test_df.iloc[:, 1 ]\n",
    "\n",
    "datasets = ['X_T2', 'X_T1', 'X_T1T2', 'X_adc']\n",
    "estimators = ['decisiontree', 'randomforest']\n",
    "for d, dataset in enumerate(datasets):\n",
    "    if dataset == 'X_adc_T1_T2':\n",
    "        X = X_train_full\n",
    "        X_test = X_test_full\n",
    "    elif dataset == 'X_T1':\n",
    "        X = X_train_full.iloc[:, :107]\n",
    "        X_test = X_test_full.iloc[:, :107]\n",
    "    elif dataset == 'X_T2':\n",
    "        X = X_train_full.iloc[:,107:214]\n",
    "        X_test = X_test_full.iloc[:,107:214]\n",
    "    elif dataset == 'X_adc_T1':\n",
    "        X = X_train_full.iloc[:, np.r_[0:107, 214:321]]\n",
    "        X_test = X_test_full.iloc[:, np.r_[0:107, 214:321]]\n",
    "    elif dataset == 'X_adc_T2':\n",
    "        X = X_train_full.iloc[:,107:321]\n",
    "        X_test = X_test_full.iloc[:,107:321]\n",
    "    elif dataset == 'X_adc':\n",
    "        X = X_train_full.iloc[:, 214:]\n",
    "        X_test = X_test_full.iloc[:, 214:]\n",
    "    elif dataset == 'X_T1_T2':\n",
    "        X = X_train_full.iloc[:, :214]\n",
    "        X_test = X_test_full.iloc[:, :214]\n",
    "    for _, estimator in enumerate(estimators):\n",
    "        if estimator == 'decisiontree':\n",
    "            base_estimator = DecisionTreeClassifier()\n",
    "        elif estimator == 'randomforest':\n",
    "            base_estimator = RandomForestClassifier(max_depth=4, random_state=seed)       \n",
    "        print (\"[ {} / {} ]\".format(d, len(datasets)), \"estimator:\", estimator, \"with dataset : \", dataset)\n",
    "        AUC_trains = 0\n",
    "        AUC_tests = 0        \n",
    "        for seed in range(repeat):\n",
    "            classifier = RUSBoostClassifier(base_estimator=base_estimator, random_state=seed)\n",
    "            classifier.fit(X, y_train)\n",
    "            preds_train = classifier.predict(X)\n",
    "            preds_test = classifier.predict(X_test)\n",
    "            performance_train = roc_auc_score(y_train, preds_train)\n",
    "            performance_test = roc_auc_score(y_test, preds_test)\n",
    "            AUC_trains += performance_train\n",
    "            AUC_tests += performance_test  \n",
    "        print ('training AUC:', AUC_trains/repeat)\n",
    "        print ('validation AUC:',AUC_tests/repeat)        "
   ]
  }
 ],
 "metadata": {
  "kernelspec": {
   "display_name": "Python 3 (ipykernel)",
   "language": "python",
   "name": "python3"
  },
  "language_info": {
   "codemirror_mode": {
    "name": "ipython",
    "version": 3
   },
   "file_extension": ".py",
   "mimetype": "text/x-python",
   "name": "python",
   "nbconvert_exporter": "python",
   "pygments_lexer": "ipython3",
   "version": "3.9.12"
  }
 },
 "nbformat": 4,
 "nbformat_minor": 5
}
