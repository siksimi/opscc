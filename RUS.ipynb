{
 "cells": [
  {
   "cell_type": "code",
   "execution_count": 1,
   "id": "965d7c5d",
   "metadata": {},
   "outputs": [],
   "source": [
    "# RUS implementation"
   ]
  },
  {
   "cell_type": "code",
   "execution_count": 2,
   "id": "b81c9a10",
   "metadata": {},
   "outputs": [],
   "source": [
    "import numpy as np\n",
    "import pandas as pd\n",
    "import os, warnings\n",
    "warnings.filterwarnings(action='ignore')\n",
    "from imblearn.under_sampling import RandomUnderSampler\n",
    "from sklearn.metrics import roc_auc_score\n",
    "from sklearn.linear_model import RidgeClassifierCV, RidgeCV, LassoCV, ElasticNetCV"
   ]
  },
  {
   "cell_type": "code",
   "execution_count": 3,
   "id": "91322bfd",
   "metadata": {},
   "outputs": [],
   "source": [
    "repeat = 100\n",
    "alphas = np.logspace(-4, 4, 17)\n",
    "num_CV = 5"
   ]
  },
  {
   "cell_type": "code",
   "execution_count": 4,
   "id": "59229fdb",
   "metadata": {},
   "outputs": [
    {
     "name": "stdout",
     "output_type": "stream",
     "text": [
      "[ 0 / 4 ] estimator: ridge with dataset :  X_T2\n",
      "training AUC: 0.7114540816326529\n",
      "validation AUC: 0.570761904761905\n",
      "[ 0 / 4 ] estimator: lasso with dataset :  X_T2\n",
      "training AUC: 0.6175680272108844\n",
      "validation AUC: 0.4861587301587301\n",
      "[ 0 / 4 ] estimator: elastic with dataset :  X_T2\n",
      "training AUC: 0.6248129251700679\n",
      "validation AUC: 0.4934603174603173\n",
      "[ 1 / 4 ] estimator: ridge with dataset :  X_T1\n",
      "training AUC: 0.7673894557823128\n",
      "validation AUC: 0.46879365079365065\n",
      "[ 1 / 4 ] estimator: lasso with dataset :  X_T1\n",
      "training AUC: 0.6803741496598641\n",
      "validation AUC: 0.45720634920634884\n",
      "[ 1 / 4 ] estimator: elastic with dataset :  X_T1\n",
      "training AUC: 0.6786989795918369\n",
      "validation AUC: 0.45790476190476154\n",
      "[ 2 / 4 ] estimator: ridge with dataset :  X_T1T2\n",
      "training AUC: 0.7673894557823128\n",
      "validation AUC: 0.46879365079365065\n",
      "[ 2 / 4 ] estimator: lasso with dataset :  X_T1T2\n",
      "training AUC: 0.6803741496598641\n",
      "validation AUC: 0.45720634920634884\n",
      "[ 2 / 4 ] estimator: elastic with dataset :  X_T1T2\n",
      "training AUC: 0.6786989795918369\n",
      "validation AUC: 0.45790476190476154\n",
      "[ 3 / 4 ] estimator: ridge with dataset :  X_adc\n",
      "training AUC: 0.6832227891156464\n",
      "validation AUC: 0.6740634920634918\n",
      "[ 3 / 4 ] estimator: lasso with dataset :  X_adc\n",
      "training AUC: 0.5918027210884352\n",
      "validation AUC: 0.6479682539682536\n",
      "[ 3 / 4 ] estimator: elastic with dataset :  X_adc\n",
      "training AUC: 0.5984608843537415\n",
      "validation AUC: 0.6430793650793649\n"
     ]
    }
   ],
   "source": [
    "df = pd.read_csv('final_data.csv')\n",
    "\n",
    "training_df = df.loc[df['Outside'] == 0]\n",
    "test_df = df.loc[df['Outside'] == 1]\n",
    "\n",
    "X_train_full = training_df.iloc[:, 5:]\n",
    "y_train = training_df.iloc[:, 1 ]\n",
    "X_test_full = test_df.iloc[:, 5:]\n",
    "y_test = test_df.iloc[:, 1 ]\n",
    "\n",
    "datasets = ['X_T2', 'X_T1', 'X_T1T2', 'X_adc']\n",
    "estimators = ['ridge', 'lasso', 'elastic']\n",
    "for d, dataset in enumerate(datasets):\n",
    "    if dataset == 'X_adc_T1_T2':\n",
    "        X = X_train_full\n",
    "        X_test = X_test_full\n",
    "    elif dataset == 'X_T1':\n",
    "        X = X_train_full.iloc[:, :107]\n",
    "        X_test = X_test_full.iloc[:, :107]\n",
    "    elif dataset == 'X_T2':\n",
    "        X = X_train_full.iloc[:,107:214]\n",
    "        X_test = X_test_full.iloc[:,107:214]\n",
    "    elif dataset == 'X_adc_T1':\n",
    "        X = X_train_full.iloc[:, np.r_[0:107, 214:321]]\n",
    "        X_test = X_test_full.iloc[:, np.r_[0:107, 214:321]]\n",
    "    elif dataset == 'X_adc_T2':\n",
    "        X = X_train_full.iloc[:,107:321]\n",
    "        X_test = X_test_full.iloc[:,107:321]\n",
    "    elif dataset == 'X_adc':\n",
    "        X = X_train_full.iloc[:, 214:]\n",
    "        X_test = X_test_full.iloc[:, 214:]\n",
    "    elif dataset == 'X_T1_T2':\n",
    "        X = X_train_full.iloc[:, :214]\n",
    "        X_test = X_test_full.iloc[:, :214]\n",
    "    \n",
    "    for _, estimator in enumerate(estimators):\n",
    "        if estimator == 'ridge':\n",
    "            classifier = RidgeCV(alphas = alphas, cv = num_CV)\n",
    "        elif estimator =='lasso':\n",
    "            classifier = LassoCV(alphas = alphas, cv = num_CV, random_state=seed)\n",
    "        elif estimator =='elastic':\n",
    "            classifier = ElasticNetCV(alphas=alphas, l1_ratio=0.5, cv = num_CV, random_state=seed)     \n",
    "        print (\"[ {} / {} ]\".format(d, len(datasets)), \"estimator:\", estimator, \"with dataset : \", dataset)\n",
    "        AUC_trains = 0\n",
    "        AUC_tests = 0        \n",
    "        for seed in range(repeat):    \n",
    "            rus = RandomUnderSampler(random_state=seed)\n",
    "            X_sampled, y_sampled = rus.fit_resample(X,y_train)\n",
    "            classifier.fit(X_sampled, y_sampled)\n",
    "            preds_train = classifier.predict(X)\n",
    "            preds_test = classifier.predict(X_test)\n",
    "            performance_train = roc_auc_score(y_train, preds_train)\n",
    "            performance_test = roc_auc_score(y_test, preds_test)\n",
    "            AUC_trains += performance_train\n",
    "            AUC_tests += performance_test  \n",
    "        print ('training AUC:', AUC_trains/repeat)\n",
    "        print ('validation AUC:',AUC_tests/repeat)        "
   ]
  },
  {
   "cell_type": "code",
   "execution_count": null,
   "id": "60a19f82",
   "metadata": {},
   "outputs": [],
   "source": []
  }
 ],
 "metadata": {
  "kernelspec": {
   "display_name": "Python 3 (ipykernel)",
   "language": "python",
   "name": "python3"
  },
  "language_info": {
   "codemirror_mode": {
    "name": "ipython",
    "version": 3
   },
   "file_extension": ".py",
   "mimetype": "text/x-python",
   "name": "python",
   "nbconvert_exporter": "python",
   "pygments_lexer": "ipython3",
   "version": "3.9.12"
  }
 },
 "nbformat": 4,
 "nbformat_minor": 5
}
